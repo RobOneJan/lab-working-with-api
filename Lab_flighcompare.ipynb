{
 "cells": [
  {
   "cell_type": "code",
   "execution_count": 1,
   "metadata": {},
   "outputs": [
    {
     "ename": "NameError",
     "evalue": "name 'flights' is not defined",
     "output_type": "error",
     "traceback": [
      "\u001b[0;31m---------------------------------------------------------------------------\u001b[0m",
      "\u001b[0;31mNameError\u001b[0m                                 Traceback (most recent call last)",
      "\u001b[0;32m<ipython-input-1-fb34d9b3bd7b>\u001b[0m in \u001b[0;36m<module>\u001b[0;34m\u001b[0m\n\u001b[1;32m      1\u001b[0m \u001b[0mmy_dict\u001b[0m \u001b[0;34m=\u001b[0m \u001b[0;34m{\u001b[0m\u001b[0;34m}\u001b[0m\u001b[0;34m\u001b[0m\u001b[0;34m\u001b[0m\u001b[0m\n\u001b[0;32m----> 2\u001b[0;31m \u001b[0;32mfor\u001b[0m \u001b[0mdate\u001b[0m \u001b[0;32min\u001b[0m \u001b[0mflights\u001b[0m\u001b[0;34m:\u001b[0m \u001b[0;31m# We iterate over the dates\u001b[0m\u001b[0;34m\u001b[0m\u001b[0;34m\u001b[0m\u001b[0m\n\u001b[0m\u001b[1;32m      3\u001b[0m     \u001b[0mprint\u001b[0m\u001b[0;34m(\u001b[0m\u001b[0;34m\"The flights for {} are: \"\u001b[0m\u001b[0;34m.\u001b[0m\u001b[0mformat\u001b[0m\u001b[0;34m(\u001b[0m\u001b[0mdate\u001b[0m\u001b[0;34m)\u001b[0m\u001b[0;34m)\u001b[0m\u001b[0;34m\u001b[0m\u001b[0;34m\u001b[0m\u001b[0m\n\u001b[1;32m      4\u001b[0m     \u001b[0mprint\u001b[0m\u001b[0;34m(\u001b[0m\u001b[0mflights\u001b[0m\u001b[0;34m[\u001b[0m\u001b[0mdate\u001b[0m\u001b[0;34m]\u001b[0m\u001b[0;34m[\u001b[0m\u001b[0;34m'Quotes'\u001b[0m\u001b[0;34m]\u001b[0m\u001b[0;34m)\u001b[0m\u001b[0;34m\u001b[0m\u001b[0;34m\u001b[0m\u001b[0m\n\u001b[1;32m      5\u001b[0m     \u001b[0mmy_dict\u001b[0m\u001b[0;34m[\u001b[0m\u001b[0mdate\u001b[0m\u001b[0;34m]\u001b[0m \u001b[0;34m=\u001b[0m \u001b[0;34m[\u001b[0m\u001b[0;34m]\u001b[0m \u001b[0;31m#We create an empty list of prices for the given date.\u001b[0m\u001b[0;34m\u001b[0m\u001b[0;34m\u001b[0m\u001b[0m\n",
      "\u001b[0;31mNameError\u001b[0m: name 'flights' is not defined"
     ]
    }
   ],
   "source": [
    "my_dict = {}\n",
    "for date in flights: # We iterate over the dates\n",
    "    print(\"The flights for {} are: \".format(date))\n",
    "    print(flights[date]['Quotes'])\n",
    "    my_dict[date] = [] #We create an empty list of prices for the given date.\n",
    "    min_price = 10000\n",
    "    best_date = \"\"\n",
    "    for elem in flights[date]['Quotes']: # We iterate over \"Quotes\" of each day.\n",
    "        my_dict[date].append(elem['MinPrice']) # We fill the date with the prices.\n",
    "        if (elem['MinPrice'] < min_price):\n",
    "            min_price = elem['MinPrice']\n",
    "            best_date = date\n",
    "    print(\"The prices for this date are: \",my_dict[date])\n",
    "    try:\n",
    "        print(\"The min price for this date is: \",min(my_dict[date])) # We determine the minimum price.\n",
    "    except:\n",
    "        continue\n",
    "print()\n",
    "print()\n",
    "print(\"The cheapest flight is on date {} and costs {}\".format(best_date,min_price))"
   ]
  },
  {
   "cell_type": "code",
   "execution_count": null,
   "metadata": {},
   "outputs": [],
   "source": [
    "def city_code(city_name):\n",
    "    url = \"https://skyscanner-skyscanner-flight-search-v1.p.rapidapi.com/apiservices/autosuggest/v1.0/US/USD/en-US/\"\n",
    "    params = {\"query\": city_name}\n",
    "    headers = {'x-rapidapi-host': \"skyscanner-skyscanner-flight-search-v1.p.rapidapi.com\",\n",
    "                      'x-rapidapi-key': \"<introduce your RapidAPI key here>\"}\n",
    "    response = requests.get(url, headers = headers, params = params)\n",
    "    return response.json()[\"Places\"][0][\"PlaceId\"]"
   ]
  }
 ],
 "metadata": {
  "kernelspec": {
   "display_name": "Python 3",
   "language": "python",
   "name": "python3"
  },
  "language_info": {
   "codemirror_mode": {
    "name": "ipython",
    "version": 3
   },
   "file_extension": ".py",
   "mimetype": "text/x-python",
   "name": "python",
   "nbconvert_exporter": "python",
   "pygments_lexer": "ipython3",
   "version": "3.8.5"
  }
 },
 "nbformat": 4,
 "nbformat_minor": 4
}
